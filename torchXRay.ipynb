{
  "nbformat": 4,
  "nbformat_minor": 0,
  "metadata": {
    "colab": {
      "provenance": []
    },
    "kernelspec": {
      "name": "python3",
      "display_name": "Python 3"
    },
    "language_info": {
      "name": "python"
    }
  },
  "cells": [
    {
      "cell_type": "code",
      "source": [
        "!pip install git+https://github.com/mlmed/torchxrayvision.git"
      ],
      "metadata": {
        "id": "f_P1LYfZY0cb"
      },
      "execution_count": null,
      "outputs": []
    },
    {
      "cell_type": "code",
      "source": [
        "!pip install gradio\n",
        "import torch\n",
        "import torchvision.transforms as transforms\n",
        "from PIL import Image\n",
        "import torchxrayvision as xrv\n",
        "import gradio as gr"
      ],
      "metadata": {
        "id": "OyN7zO6REq4f"
      },
      "execution_count": null,
      "outputs": []
    },
    {
      "cell_type": "code",
      "source": [
        "# Load pretrained X-ray model\n",
        "model = xrv.models.DenseNet(weights=\"densenet121-res224-all\")\n",
        "\n",
        "# Define preprocessing function\n",
        "transform = transforms.Compose([\n",
        "    transforms.Resize((224, 224)),\n",
        "    transforms.ToTensor()\n",
        "])\n",
        "\n",
        "# Define the prediction function\n",
        "def predict_xray(image):\n",
        "    # Convert to grayscale if needed\n",
        "    if image.mode != \"L\":\n",
        "        image = image.convert(\"L\")\n",
        "    img_tensor = transform(image).unsqueeze(0)\n",
        "\n",
        "    # Predict\n",
        "    with torch.no_grad():\n",
        "        outputs = model(img_tensor)\n",
        "\n",
        "    # Get top 5 predictions\n",
        "    top5_idx = torch.topk(outputs[0], 5).indices\n",
        "    results = {model.pathologies[i]: round(outputs[0][i].item(), 4) for i in top5_idx}\n",
        "    return results\n",
        "\n",
        "# Create Gradio interface\n",
        "gr.Interface(\n",
        "    fn=predict_xray,\n",
        "    inputs=gr.Image(type=\"pil\", label=\"Upload Chest X-ray\"),\n",
        "    outputs=\"label\",\n",
        "    title=\"🩻 X-ray Pathology Classifier\",\n",
        "    description=\"Upload a chest X-ray image to classify potential findings using TorchXRayVision.\"\n",
        ").launch()"
      ],
      "metadata": {
        "colab": {
          "base_uri": "https://localhost:8080/",
          "height": 645
        },
        "id": "1aQxp77GmQBX",
        "outputId": "68ca3e1d-ff66-4847-e48b-31a6c395ff3a"
      },
      "execution_count": 8,
      "outputs": [
        {
          "output_type": "stream",
          "name": "stdout",
          "text": [
            "It looks like you are running Gradio on a hosted a Jupyter notebook. For the Gradio app to work, sharing must be enabled. Automatically setting `share=True` (you can turn this off by setting `share=False` in `launch()` explicitly).\n",
            "\n",
            "Colab notebook detected. To show errors in colab notebook, set debug=True in launch()\n",
            "* Running on public URL: https://d51f27cc5841694a7f.gradio.live\n",
            "\n",
            "This share link expires in 1 week. For free permanent hosting and GPU upgrades, run `gradio deploy` from the terminal in the working directory to deploy to Hugging Face Spaces (https://huggingface.co/spaces)\n"
          ]
        },
        {
          "output_type": "display_data",
          "data": {
            "text/plain": [
              "<IPython.core.display.HTML object>"
            ],
            "text/html": [
              "<div><iframe src=\"https://d51f27cc5841694a7f.gradio.live\" width=\"100%\" height=\"500\" allow=\"autoplay; camera; microphone; clipboard-read; clipboard-write;\" frameborder=\"0\" allowfullscreen></iframe></div>"
            ]
          },
          "metadata": {}
        },
        {
          "output_type": "execute_result",
          "data": {
            "text/plain": []
          },
          "metadata": {},
          "execution_count": 8
        }
      ]
    }
  ]
}